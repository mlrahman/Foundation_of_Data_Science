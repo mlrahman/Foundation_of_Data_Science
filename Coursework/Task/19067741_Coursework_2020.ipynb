{
 "cells": [
  {
   "cell_type": "code",
   "execution_count": 21,
   "metadata": {},
   "outputs": [],
   "source": [
    "import pandas as pd\n",
    "import numpy as np\n",
    "import numpy.linalg as lia\n",
    "import matplotlib.pyplot as plt\n",
    "from sklearn.utils import shuffle\n",
    "from sklearn.decomposition import PCA"
   ]
  },
  {
   "cell_type": "code",
   "execution_count": 4,
   "metadata": {},
   "outputs": [
    {
     "name": "stdout",
     "output_type": "stream",
     "text": [
      "Number of Datapoints in the Dataset:  4898\n"
     ]
    }
   ],
   "source": [
    "#Task_1_a\n",
    "dataset=pd.read_csv(\"winequality-white.csv\",sep=';',decimal='.')\n",
    "#print(dataset)\n",
    "#print(dataset.head())\n",
    "#print(dataset.tail())\n",
    "#Number of Datapoints \n",
    "print('Number of Datapoints in the Dataset: ',dataset.shape[0])"
   ]
  },
  {
   "cell_type": "code",
   "execution_count": 5,
   "metadata": {},
   "outputs": [
    {
     "name": "stdout",
     "output_type": "stream",
     "text": [
      "Number of features considering \"quality\" as class label:  7 [6 5 7 8 4 3 9]\n",
      "Number of data points in each class: \n",
      " quality\n",
      "3      20\n",
      "4     163\n",
      "5    1457\n",
      "6    2198\n",
      "7     880\n",
      "8     175\n",
      "9       5\n",
      "dtype: int64\n"
     ]
    }
   ],
   "source": [
    "#Task_1_b\n",
    "print('Number of features considering \"quality\" as class label: ',pd.unique(dataset['quality']).size, pd.unique(dataset['quality']))\n",
    "q_dpoints = dataset.pivot_table(index=['quality'], aggfunc='size')\n",
    "print('Number of data points in each class: \\n', q_dpoints)"
   ]
  },
  {
   "cell_type": "code",
   "execution_count": 17,
   "metadata": {},
   "outputs": [
    {
     "name": "stdout",
     "output_type": "stream",
     "text": [
      "      fixed acidity  volatile acidity  citric acid  residual sugar  chlorides  \\\n",
      "3732            7.5              0.28         0.41            1.30      0.044   \n",
      "2981            8.5              0.23         0.28           11.10      0.033   \n",
      "1247            7.2              0.21         0.34            1.10      0.046   \n",
      "1835            8.0              0.55         0.42           12.60      0.211   \n",
      "4432            6.7              0.24         0.26            5.40      0.030   \n",
      "...             ...               ...          ...             ...        ...   \n",
      "3335            6.9              0.38         0.29           13.65      0.048   \n",
      "1099            5.8              0.29         0.21            2.60      0.025   \n",
      "2514            6.9              0.34         0.30            4.70      0.029   \n",
      "3606            6.4              0.38         0.24            7.20      0.047   \n",
      "2575            6.7              0.17         0.42           10.40      0.038   \n",
      "\n",
      "      free sulfur dioxide  total sulfur dioxide  density    pH  sulphates  \\\n",
      "3732                 11.0                 126.0  0.99293  3.28       0.45   \n",
      "2981                 30.0                  97.0  0.99507  3.03       0.39   \n",
      "1247                 25.0                  80.0  0.99200  3.25       0.40   \n",
      "1835                 37.0                 213.0  0.99880  2.99       0.56   \n",
      "4432                 15.0                  94.0  0.99045  3.15       0.38   \n",
      "...                   ...                   ...      ...   ...        ...   \n",
      "3335                 52.0                 189.0  0.99784  3.00       0.60   \n",
      "1099                 12.0                 120.0  0.98940  3.39       0.79   \n",
      "2514                 34.0                 148.0  0.99165  3.36       0.49   \n",
      "3606                 41.0                 151.0  0.99604  3.11       0.60   \n",
      "2575                 85.0                 182.0  0.99628  3.04       0.44   \n",
      "\n",
      "      alcohol  quality  \n",
      "3732     10.3        5  \n",
      "2981     10.5        7  \n",
      "1247     11.3        6  \n",
      "1835      9.3        5  \n",
      "4432     12.7        6  \n",
      "...       ...      ...  \n",
      "3335      9.5        6  \n",
      "1099     14.0        7  \n",
      "2514     12.3        7  \n",
      "3606      9.2        5  \n",
      "2575      8.9        6  \n",
      "\n",
      "[4898 rows x 12 columns]\n"
     ]
    }
   ],
   "source": [
    "#Task_1_c\n",
    "white_wine = shuffle(dataset, random_state=2)\n",
    "print(white_wine)"
   ]
  },
  {
   "cell_type": "code",
   "execution_count": 20,
   "metadata": {},
   "outputs": [
    {
     "data": {
      "text/plain": [
       "Text(0, 0.5, 'Alcohol')"
      ]
     },
     "execution_count": 20,
     "metadata": {},
     "output_type": "execute_result"
    },
    {
     "data": {
      "image/png": "[encoded data removed]",
      "text/plain": [
       "<Figure size 432x288 with 1 Axes>"
      ]
     },
     "metadata": {
      "needs_background": "light"
     },
     "output_type": "display_data"
    }
   ],
   "source": [
    "#Task_1_d\n",
    "x=np.array(dataset['quality'])\n",
    "y=np.array(dataset['alcohol'])\n",
    "plt.scatter(x,y,marker='o',color='red')\n",
    "plt.title('Alcohol vs Quality')\n",
    "plt.xlabel('Quality')\n",
    "plt.ylabel('Alcohol')"
   ]
  },
  {
   "cell_type": "code",
   "execution_count": 26,
   "metadata": {},
   "outputs": [
    {
     "name": "stdout",
     "output_type": "stream",
     "text": [
      "[[-1.85138702e+01 -2.02945289e+01 -3.86405326e+00 ...  8.92937261e-03\n",
      "  -5.28652847e-03 -3.87872902e-04]\n",
      " [-4.10338258e+01  5.81190048e+00  6.61046718e+00 ... -3.27412710e-02\n",
      "  -3.82059203e-03 -9.81495088e-04]\n",
      " [-5.92106776e+01  5.31112526e+00 -2.55606029e+00 ... -2.94740462e-02\n",
      "   7.49560109e-03  6.56212693e-04]\n",
      " ...\n",
      " [ 8.84236806e+00 -3.79577927e+00 -2.22118004e+00 ...  4.64370239e-02\n",
      "  -3.75582681e-03 -3.13125141e-04]\n",
      " [ 1.37299298e+01  2.16837544e+00  2.25164243e-01 ...  5.97713226e-02\n",
      "  -1.08078481e-02  6.25958803e-04]\n",
      " [ 5.52841154e+01  3.65237806e+01  9.44807575e-01 ... -2.76114372e-02\n",
      "  -1.93170563e-02 -8.32359631e-05]]\n"
     ]
    }
   ],
   "source": [
    "#Task_2_a\n",
    "pca=PCA(n_components=dataset.shape[1])\n",
    "proj=pca.fit_transform(white_wine)\n",
    "print(proj)"
   ]
  },
  {
   "cell_type": "code",
   "execution_count": null,
   "metadata": {},
   "outputs": [],
   "source": [
    "#Task_2_b\n"
   ]
  }
 ],
 "metadata": {
  "kernelspec": {
   "display_name": "Python 3",
   "language": "python",
   "name": "python3"
  },
  "language_info": {
   "codemirror_mode": {
    "name": "ipython",
    "version": 3
   },
   "file_extension": ".py",
   "mimetype": "text/x-python",
   "name": "python",
   "nbconvert_exporter": "python",
   "pygments_lexer": "ipython3",
   "version": "3.7.4"
  }
 },
 "nbformat": 4,
 "nbformat_minor": 2
}
