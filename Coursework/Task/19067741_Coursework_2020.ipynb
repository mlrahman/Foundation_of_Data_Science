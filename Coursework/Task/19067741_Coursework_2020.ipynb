{
 "cells": [
  {
   "cell_type": "code",
   "execution_count": 1,
   "metadata": {},
   "outputs": [
    {
     "name": "stdout",
     "output_type": "stream",
     "text": [
      "Library Loaded\n"
     ]
    }
   ],
   "source": [
    "import pandas as pd\n",
    "import numpy as np\n",
    "import numpy.linalg as lia\n",
    "import matplotlib.pyplot as plt\n",
    "from sklearn.utils import shuffle\n",
    "from sklearn.decomposition import PCA\n",
    "from sklearn import preprocessing\n",
    "\n",
    "print('Library Loaded')"
   ]
  },
  {
   "cell_type": "code",
   "execution_count": 2,
   "metadata": {},
   "outputs": [
    {
     "name": "stdout",
     "output_type": "stream",
     "text": [
      "Number of Datapoints in the Dataset:  4898\n"
     ]
    }
   ],
   "source": [
    "#Task_1_a\n",
    "dataset=pd.read_csv(\"winequality-white.csv\",sep=';',decimal='.')\n",
    "#print(dataset)\n",
    "#print(dataset.head())\n",
    "#print(dataset.tail())\n",
    "#Number of Datapoints \n",
    "print('Number of Datapoints in the Dataset: ',dataset.shape[0])"
   ]
  },
  {
   "cell_type": "code",
   "execution_count": 3,
   "metadata": {},
   "outputs": [
    {
     "name": "stdout",
     "output_type": "stream",
     "text": [
      "Number of features considering \"quality\" as class label:  7 [6 5 7 8 4 3 9]\n",
      "Number of data points in each class: \n",
      " quality\n",
      "3      20\n",
      "4     163\n",
      "5    1457\n",
      "6    2198\n",
      "7     880\n",
      "8     175\n",
      "9       5\n",
      "dtype: int64\n"
     ]
    }
   ],
   "source": [
    "#Task_1_b\n",
    "print('Number of features considering \"quality\" as class label: ',pd.unique(dataset['quality']).size, pd.unique(dataset['quality']))\n",
    "q_dpoints = dataset.pivot_table(index=['quality'], aggfunc='size')\n",
    "print('Number of data points in each class: \\n', q_dpoints)"
   ]
  },
  {
   "cell_type": "code",
   "execution_count": 4,
   "metadata": {},
   "outputs": [
    {
     "name": "stdout",
     "output_type": "stream",
     "text": [
      "      fixed acidity  volatile acidity  citric acid  residual sugar  chlorides  \\\n",
      "3732            7.5              0.28         0.41            1.30      0.044   \n",
      "2981            8.5              0.23         0.28           11.10      0.033   \n",
      "1247            7.2              0.21         0.34            1.10      0.046   \n",
      "1835            8.0              0.55         0.42           12.60      0.211   \n",
      "4432            6.7              0.24         0.26            5.40      0.030   \n",
      "...             ...               ...          ...             ...        ...   \n",
      "3335            6.9              0.38         0.29           13.65      0.048   \n",
      "1099            5.8              0.29         0.21            2.60      0.025   \n",
      "2514            6.9              0.34         0.30            4.70      0.029   \n",
      "3606            6.4              0.38         0.24            7.20      0.047   \n",
      "2575            6.7              0.17         0.42           10.40      0.038   \n",
      "\n",
      "      free sulfur dioxide  total sulfur dioxide  density    pH  sulphates  \\\n",
      "3732                 11.0                 126.0  0.99293  3.28       0.45   \n",
      "2981                 30.0                  97.0  0.99507  3.03       0.39   \n",
      "1247                 25.0                  80.0  0.99200  3.25       0.40   \n",
      "1835                 37.0                 213.0  0.99880  2.99       0.56   \n",
      "4432                 15.0                  94.0  0.99045  3.15       0.38   \n",
      "...                   ...                   ...      ...   ...        ...   \n",
      "3335                 52.0                 189.0  0.99784  3.00       0.60   \n",
      "1099                 12.0                 120.0  0.98940  3.39       0.79   \n",
      "2514                 34.0                 148.0  0.99165  3.36       0.49   \n",
      "3606                 41.0                 151.0  0.99604  3.11       0.60   \n",
      "2575                 85.0                 182.0  0.99628  3.04       0.44   \n",
      "\n",
      "      alcohol  quality  \n",
      "3732     10.3        5  \n",
      "2981     10.5        7  \n",
      "1247     11.3        6  \n",
      "1835      9.3        5  \n",
      "4432     12.7        6  \n",
      "...       ...      ...  \n",
      "3335      9.5        6  \n",
      "1099     14.0        7  \n",
      "2514     12.3        7  \n",
      "3606      9.2        5  \n",
      "2575      8.9        6  \n",
      "\n",
      "[4898 rows x 12 columns]\n"
     ]
    }
   ],
   "source": [
    "#Task_1_c\n",
    "white_wine = shuffle(dataset, random_state=2)\n",
    "print(white_wine)"
   ]
  },
  {
   "cell_type": "code",
   "execution_count": 5,
   "metadata": {},
   "outputs": [
    {
     "data": {
      "text/plain": [
       "<matplotlib.collections.PathCollection at 0x1be16e66708>"
      ]
     },
     "execution_count": 5,
     "metadata": {},
     "output_type": "execute_result"
    },
    {
     "data": {
      "image/png": "[encoded data removed]",
      "text/plain": [
       "<Figure size 432x288 with 1 Axes>"
      ]
     },
     "metadata": {
      "needs_background": "light"
     },
     "output_type": "display_data"
    }
   ],
   "source": [
    "#Task_1_d\n",
    "x=np.array(dataset['quality'])\n",
    "y=np.array(dataset['alcohol'])\n",
    "plt.title('Alcohol vs Quality')\n",
    "plt.xlabel('Quality')\n",
    "plt.ylabel('Alcohol')\n",
    "plt.scatter(x,y,marker='o',color='red')"
   ]
  },
  {
   "cell_type": "code",
   "execution_count": 6,
   "metadata": {},
   "outputs": [
    {
     "name": "stdout",
     "output_type": "stream",
     "text": [
      "Mean: \n",
      "' [-3.51064398e-16 -1.11339639e-16  1.95841710e-17 -1.04448912e-16\n",
      "  3.36557605e-16 -1.59574726e-17 -4.93230972e-17 -4.16888972e-14\n",
      " -1.19100773e-15  1.49419971e-16 -3.72824588e-16  3.08269358e-17]\n",
      "\n",
      "\n",
      "Projection: \n",
      " [[-0.70028592 -1.10986482  0.69261309 ... -0.33642081  0.28307622\n",
      "  -0.0987226 ]\n",
      " [ 0.01775872 -1.89151012 -0.87312695 ...  0.25448149 -0.50102418\n",
      "  -0.27309305]\n",
      " [-1.80357007 -0.82306897 -0.04683503 ...  0.38250922 -0.3376804\n",
      "   0.16918687]\n",
      " ...\n",
      " [-1.72605584  0.88417553 -0.51894117 ...  0.08777447  0.28451858\n",
      "  -0.07888414]\n",
      " [ 1.2568822   0.54295238  1.2752249  ... -0.35210708 -0.46251267\n",
      "   0.15995356]\n",
      " [ 2.52686009  0.63851716 -1.79105502 ... -0.12540096 -0.94178747\n",
      "  -0.01800357]]\n",
      "\n",
      "\n",
      "Principal Components: \n",
      " [[ 0.15690447  0.02428722  0.1329443   0.40605288  0.217544    0.27471931\n",
      "   0.39044148  0.50129557 -0.13003701  0.03364168 -0.44279498 -0.22713722]\n",
      " [-0.56066866 -0.01606694 -0.28938115  0.03882402 -0.03691144  0.34554881\n",
      "   0.27232605  0.01773344  0.56714503  0.24826266 -0.01698188  0.14603134]\n",
      " [-0.20738436  0.52491466 -0.44635554 -0.03384313  0.21471269 -0.31297088\n",
      "  -0.12479447  0.03196758  0.06848384 -0.22699505 -0.15887556 -0.48884718]\n",
      " [ 0.03373494 -0.13119747  0.32953335 -0.4161563   0.50961203 -0.14892788\n",
      "  -0.02161841 -0.10386393  0.20410995  0.51924489 -0.13438871 -0.27820033]\n",
      " [ 0.24413933  0.70298193  0.06510579 -0.01610213 -0.17829248  0.11117214\n",
      "   0.27144774 -0.07834373 -0.11270171  0.45623099  0.30855451  0.04112191]\n",
      " [-0.10585624  0.12370469  0.13195866 -0.28991855  0.40931727  0.48808515\n",
      "   0.27249382 -0.32600811 -0.19268884 -0.47981189  0.13544333  0.0055244 ]\n",
      " [-0.22355921  0.22363601  0.12037133  0.33860858  0.55225504 -0.22407108\n",
      "  -0.20375343  0.12313568 -0.07704001  0.04462167  0.09801169  0.58434519]\n",
      " [-0.13041311  0.22960669  0.69141866  0.11329401 -0.21139734 -0.12883115\n",
      "  -0.01290262  0.08667076  0.47796137 -0.33642752  0.08899029 -0.14444197]\n",
      " [ 0.63145048  0.03159628 -0.24949503 -0.17730336  0.17916182 -0.1018471\n",
      "   0.17800832  0.12538636  0.52031593 -0.23662489 -0.01278298  0.29970621]\n",
      " [ 0.20087123 -0.14175876 -0.10632912  0.3742749   0.23552782  0.32733415\n",
      "  -0.34735757  0.04349161  0.18375599  0.05519364  0.57530003 -0.36771605]\n",
      " [-0.10411772 -0.2700227  -0.05395597  0.17987291  0.09108849 -0.49921348\n",
      "   0.64355326 -0.06686042 -0.07911267 -0.04102077  0.4189544  -0.14620225]\n",
      " [-0.17079229 -0.01337672 -0.0096488  -0.49356514 -0.02516895  0.0294752\n",
      "  -0.03506019  0.76118449 -0.14184264 -0.04278739  0.35015681  0.01606925]]\n"
     ]
    }
   ],
   "source": [
    "#Task_2_a\n",
    "#Mean Removal\n",
    "white_wine=preprocessing.scale(white_wine)\n",
    "print(\"Mean: \\n'\",white_wine.mean(axis=0))\n",
    "\n",
    "#PCA Analysis\n",
    "pca=PCA(n_components=dataset.shape[1])\n",
    "#Projection\n",
    "proj=pca.fit_transform(white_wine)\n",
    "\n",
    "print('\\n\\nProjection: \\n',proj)\n",
    "print('\\n\\nPrincipal Components: \\n',pca.components_)"
   ]
  },
  {
   "cell_type": "code",
   "execution_count": 9,
   "metadata": {},
   "outputs": [
    {
     "data": {
      "text/plain": [
       "Text(0, 0.5, 'Principal Component 2')"
      ]
     },
     "execution_count": 9,
     "metadata": {},
     "output_type": "execute_result"
    },
    {
     "data": {
      "image/png": "[encoded data removed]",
      "text/plain": [
       "<Figure size 432x288 with 1 Axes>"
      ]
     },
     "metadata": {
      "needs_background": "light"
     },
     "output_type": "display_data"
    }
   ],
   "source": [
    "#Task_2_b\n",
    "plt.scatter(proj[:,0],proj[:,1])\n",
    "plt.xlabel('Principal Component 1')\n",
    "plt.ylabel('Principal Component 2')"
   ]
  }
 ],
 "metadata": {
  "kernelspec": {
   "display_name": "Python 3",
   "language": "python",
   "name": "python3"
  },
  "language_info": {
   "codemirror_mode": {
    "name": "ipython",
    "version": 3
   },
   "file_extension": ".py",
   "mimetype": "text/x-python",
   "name": "python",
   "nbconvert_exporter": "python",
   "pygments_lexer": "ipython3",
   "version": "3.7.4"
  }
 },
 "nbformat": 4,
 "nbformat_minor": 2
}
