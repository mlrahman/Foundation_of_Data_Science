{
 "cells": [
  {
   "cell_type": "code",
   "execution_count": 10,
   "metadata": {},
   "outputs": [],
   "source": [
    "import pandas as pd\n",
    "import numpy as np\n",
    "import numpy.linalg as lia\n",
    "import matplotlib.pyplot as plt\n",
    "from sklearn.utils import shuffle"
   ]
  },
  {
   "cell_type": "code",
   "execution_count": 4,
   "metadata": {},
   "outputs": [
    {
     "name": "stdout",
     "output_type": "stream",
     "text": [
      "Number of Datapoints in the Dataset:  4898\n"
     ]
    }
   ],
   "source": [
    "#Task_1_a\n",
    "dataset=pd.read_csv(\"winequality-white.csv\",sep=';',decimal='.')\n",
    "#print(dataset)\n",
    "#print(dataset.head())\n",
    "#print(dataset.tail())\n",
    "#Number of Datapoints \n",
    "print('Number of Datapoints in the Dataset: ',dataset.shape[0])"
   ]
  },
  {
   "cell_type": "code",
   "execution_count": 5,
   "metadata": {},
   "outputs": [
    {
     "name": "stdout",
     "output_type": "stream",
     "text": [
      "Number of features considering \"quality\" as class label:  7 [6 5 7 8 4 3 9]\n",
      "Number of data points in each class: \n",
      " quality\n",
      "3      20\n",
      "4     163\n",
      "5    1457\n",
      "6    2198\n",
      "7     880\n",
      "8     175\n",
      "9       5\n",
      "dtype: int64\n"
     ]
    }
   ],
   "source": [
    "#Task_1_b\n",
    "print('Number of features considering \"quality\" as class label: ',pd.unique(dataset['quality']).size, pd.unique(dataset['quality']))\n",
    "q_dpoints = dataset.pivot_table(index=['quality'], aggfunc='size')\n",
    "print('Number of data points in each class: \\n', q_dpoints)"
   ]
  },
  {
   "cell_type": "code",
   "execution_count": 17,
   "metadata": {},
   "outputs": [
    {
     "name": "stdout",
     "output_type": "stream",
     "text": [
      "      fixed acidity  volatile acidity  citric acid  residual sugar  chlorides  \\\n",
      "3732            7.5              0.28         0.41            1.30      0.044   \n",
      "2981            8.5              0.23         0.28           11.10      0.033   \n",
      "1247            7.2              0.21         0.34            1.10      0.046   \n",
      "1835            8.0              0.55         0.42           12.60      0.211   \n",
      "4432            6.7              0.24         0.26            5.40      0.030   \n",
      "...             ...               ...          ...             ...        ...   \n",
      "3335            6.9              0.38         0.29           13.65      0.048   \n",
      "1099            5.8              0.29         0.21            2.60      0.025   \n",
      "2514            6.9              0.34         0.30            4.70      0.029   \n",
      "3606            6.4              0.38         0.24            7.20      0.047   \n",
      "2575            6.7              0.17         0.42           10.40      0.038   \n",
      "\n",
      "      free sulfur dioxide  total sulfur dioxide  density    pH  sulphates  \\\n",
      "3732                 11.0                 126.0  0.99293  3.28       0.45   \n",
      "2981                 30.0                  97.0  0.99507  3.03       0.39   \n",
      "1247                 25.0                  80.0  0.99200  3.25       0.40   \n",
      "1835                 37.0                 213.0  0.99880  2.99       0.56   \n",
      "4432                 15.0                  94.0  0.99045  3.15       0.38   \n",
      "...                   ...                   ...      ...   ...        ...   \n",
      "3335                 52.0                 189.0  0.99784  3.00       0.60   \n",
      "1099                 12.0                 120.0  0.98940  3.39       0.79   \n",
      "2514                 34.0                 148.0  0.99165  3.36       0.49   \n",
      "3606                 41.0                 151.0  0.99604  3.11       0.60   \n",
      "2575                 85.0                 182.0  0.99628  3.04       0.44   \n",
      "\n",
      "      alcohol  quality  \n",
      "3732     10.3        5  \n",
      "2981     10.5        7  \n",
      "1247     11.3        6  \n",
      "1835      9.3        5  \n",
      "4432     12.7        6  \n",
      "...       ...      ...  \n",
      "3335      9.5        6  \n",
      "1099     14.0        7  \n",
      "2514     12.3        7  \n",
      "3606      9.2        5  \n",
      "2575      8.9        6  \n",
      "\n",
      "[4898 rows x 12 columns]\n"
     ]
    }
   ],
   "source": [
    "#Task_1_c\n",
    "white_wine = shuffle(dataset, random_state=2)\n",
    "print(white_wine)"
   ]
  },
  {
   "cell_type": "code",
   "execution_count": 9,
   "metadata": {},
   "outputs": [
    {
     "data": {
      "text/plain": [
       "Text(0, 0.5, 'Alcohol')"
      ]
     },
     "execution_count": 9,
     "metadata": {},
     "output_type": "execute_result"
    },
    {
     "data": {
      "image/png": "[encoded data removed]",
      "text/plain": [
       "<Figure size 432x288 with 1 Axes>"
      ]
     },
     "metadata": {
      "needs_background": "light"
     },
     "output_type": "display_data"
    }
   ],
   "source": [
    "#Task_1_d\n",
    "x=np.array(dataset['quality'])\n",
    "y=np.array(dataset['alcohol'])\n",
    "plt.plot(x,y,'o',color='black')\n",
    "plt.title('Alcohol vs Quality')\n",
    "plt.xlabel('Quality')\n",
    "plt.ylabel('Alcohol')"
   ]
  },
  {
   "cell_type": "code",
   "execution_count": null,
   "metadata": {},
   "outputs": [],
   "source": [
    "#Task_2_a\n"
   ]
  }
 ],
 "metadata": {
  "kernelspec": {
   "display_name": "Python 3",
   "language": "python",
   "name": "python3"
  },
  "language_info": {
   "codemirror_mode": {
    "name": "ipython",
    "version": 3
   },
   "file_extension": ".py",
   "mimetype": "text/x-python",
   "name": "python",
   "nbconvert_exporter": "python",
   "pygments_lexer": "ipython3",
   "version": "3.7.4"
  }
 },
 "nbformat": 4,
 "nbformat_minor": 2
}
