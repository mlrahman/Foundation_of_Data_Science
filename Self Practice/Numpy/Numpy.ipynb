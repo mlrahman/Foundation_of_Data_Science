{
 "cells": [
  {
   "cell_type": "code",
   "execution_count": 1,
   "metadata": {},
   "outputs": [],
   "source": [
    "#For help in python use \n",
    "#help()\n",
    "\n",
    "#Or use help(len) for getting info about len or anything\n",
    "#help(len)\n",
    "\n",
    "#Or for knowing somethin use ? sign ex:\n",
    "#len?"
   ]
  },
  {
   "cell_type": "code",
   "execution_count": 3,
   "metadata": {},
   "outputs": [],
   "source": [
    "#Importing numpy, it provides an efficient interface to store and operate on dense data buffers\n",
    "import numpy as np\n",
    "\n",
    "#Version checking of numpy\n",
    "np.__version__\n",
    "\n",
    "#To display all the contents of the numpy namespace\n",
    "np?"
   ]
  },
  {
   "cell_type": "code",
   "execution_count": 31,
   "metadata": {},
   "outputs": [
    {
     "name": "stdout",
     "output_type": "stream",
     "text": [
      "[1 2 3 4]\n",
      "[23 44 19 17]\n",
      "[[15 30 38]\n",
      " [17 47 32]]\n",
      "1\n",
      "2\n",
      "4\n",
      "6\n",
      "(4,)\n",
      "(2, 3)\n",
      "int32\n",
      "4\n",
      "16\n",
      "23\n",
      "23\n",
      "30\n"
     ]
    }
   ],
   "source": [
    "#Generate an array using Numpy\n",
    "arr=np.array([1,2,3,4])\n",
    "print(arr)\n",
    "\n",
    "#Numpy random array\n",
    "np.random.seed(421) #By mentioning seed() to a particular number, you are hanging on to same set of random numbers always.\n",
    "arr2=np.random.randint(50,size=4) #One dimensiona array within 50 size 4\n",
    "print(arr2)\n",
    "\n",
    "arr3=np.random.randint(50,size=(2,3)) #Two dimensional array within 50\n",
    "print(arr3)\n",
    "\n",
    "#Array dimension\n",
    "print(arr2.ndim)\n",
    "print(arr3.ndim)\n",
    "\n",
    "#Array size\n",
    "print(arr2.size) #total\n",
    "print(arr3.size)\n",
    "\n",
    "#Array shape\n",
    "print(arr2.shape) #no of rows and columns\n",
    "print(arr3.shape)\n",
    "\n",
    "#Array Datatype\n",
    "print(arr2.dtype)\n",
    "\n",
    "#Array element size in byte\n",
    "print(arr2.itemsize)\n",
    "\n",
    "#Array total size in bytes\n",
    "print(arr2.nbytes)\n",
    "\n",
    "#Array individual index value in one dimensional\n",
    "print(arr2[0])\n",
    "\n",
    "#To index from the end of the array, you can use negative indices. \n",
    "print(arr2[-4])\n",
    "\n",
    "#Array individual index value in two dimensional\n",
    "print(arr3[0,1])\n"
   ]
  },
  {
   "cell_type": "code",
   "execution_count": 57,
   "metadata": {},
   "outputs": [
    {
     "name": "stdout",
     "output_type": "stream",
     "text": [
      "[23 44 19]\n",
      "[23 17]\n",
      "[17 19 44]\n",
      "[17 19 44 23]\n",
      "[[15 38]]\n",
      "[0 1 2 3 4 5 6 7 8 9]\n"
     ]
    }
   ],
   "source": [
    "#Slicing an array - x[start:stop:step]. One dimensional\n",
    "print(arr2[0:3])\n",
    "print(arr2[0:4:3])\n",
    "print(arr2[3:0:-1])\n",
    "print(arr2[3::-1])\n",
    "\n",
    "#Slicing array two dimensional array - x[start:stop:step, start:stop:step]\n",
    "print(arr3[0:1,0:3:2])\n",
    "\n",
    "#Array creating with arrange - \n",
    "#np.arange?\n",
    "print(np.arange(10))"
   ]
  },
  {
   "cell_type": "code",
   "execution_count": 80,
   "metadata": {},
   "outputs": [
    {
     "name": "stdout",
     "output_type": "stream",
     "text": [
      "[[0 1]\n",
      " [2 3]\n",
      " [4 5]\n",
      " [6 7]\n",
      " [8 9]]\n"
     ]
    },
    {
     "data": {
      "text/plain": [
       "[array([0, 1]),\n",
       " array([2, 3, 4]),\n",
       " array([5, 6, 7]),\n",
       " array([8, 9]),\n",
       " array([], dtype=int32)]"
      ]
     },
     "execution_count": 80,
     "metadata": {},
     "output_type": "execute_result"
    }
   ],
   "source": [
    "#You can change the shape of a given array by using the reshape() method\n",
    "x=np.arange(10)\n",
    "print(x.reshape((5,2))) #Must hold all elements\n",
    "\n",
    "#Concatenation and splitting\n",
    "np.concatenate([x,x],axis=0) #axis 0 means adding elements in first dimension\n",
    "np.concatenate([arr3,arr3],axis=0) #Must be in same dimension\n",
    "\n",
    "\n",
    "#Splitting array\n",
    "np.split(x,2)\n",
    "#np.split(x,[2,5,8,10])"
   ]
  },
  {
   "cell_type": "code",
   "execution_count": 105,
   "metadata": {},
   "outputs": [
    {
     "name": "stdout",
     "output_type": "stream",
     "text": [
      "3\n",
      "3\n",
      "[[1 2 3]\n",
      " [1 3 4]]\n",
      "[[ 0  0  0]\n",
      " [-3 -2 -2]]\n",
      "[[2 4 6]\n",
      " [2 6 8]]\n",
      "[[ 1  4  9]\n",
      " [ 1  9 16]]\n",
      "[[25 15]\n",
      " [34 20]]\n",
      "[[25 15]\n",
      " [34 20]]\n"
     ]
    }
   ],
   "source": [
    "#Matrices \n",
    "M=[[1,2,3],[4,5,6]]\n",
    "print(M[0][2])\n",
    "\n",
    "N=np.array([[1,2,3],[4,5,6]])\n",
    "print(N[0,2])\n",
    "\n",
    "P=np.random.randint(6,size=(2,3))\n",
    "print(P)\n",
    "\n",
    "K=P-N\n",
    "print(K)\n",
    "\n",
    "print(P*2)\n",
    "print(P**2)\n",
    "L=np.random.randint(6,size=(3,2))\n",
    "\n",
    "#Matrix Multiplication\n",
    "print(P@L)\n",
    "print(P.dot(L))"
   ]
  },
  {
   "cell_type": "code",
   "execution_count": 109,
   "metadata": {},
   "outputs": [
    {
     "name": "stdout",
     "output_type": "stream",
     "text": [
      "[[1 4]\n",
      " [2 5]\n",
      " [3 6]]\n",
      "6\n",
      "[1 5]\n"
     ]
    }
   ],
   "source": [
    "#Matrix Transpose\n",
    "print(np.transpose(N))\n",
    "\n",
    "#Matrix Trace\n",
    "print(np.trace(N))\n",
    "\n",
    "#Matrix Diagonal elements\n",
    "print(np.diag(N))"
   ]
  },
  {
   "cell_type": "code",
   "execution_count": 145,
   "metadata": {},
   "outputs": [
    {
     "name": "stdout",
     "output_type": "stream",
     "text": [
      "[[0 3]\n",
      " [3 1]]\n",
      "-9.000000000000002\n",
      "[[-0.11111111  0.33333333]\n",
      " [ 0.33333333  0.        ]]\n",
      "[[1 2 3]\n",
      " [4 5 6]] [[1 2 3]\n",
      " [1 3 4]]\n",
      "Not Equal\n"
     ]
    }
   ],
   "source": [
    "#numpy.linalg is a class having a standard set of things like inverse and determinant. matrix decompositions. \n",
    "import numpy.linalg as li\n",
    "Q=np.random.randint(4,size=(2,2))\n",
    "print(Q)\n",
    "\n",
    "#Matrix determinant\n",
    "det=li.det(Q)\n",
    "print(det)\n",
    "\n",
    "#Matrix Inverse operation\n",
    "if det!=0:\n",
    "    print(li.inv(Q))\n",
    "else:\n",
    "    print(\"Not Possible\")\n",
    "    \n",
    "#Matrix conditions\n",
    "print(N,P)\n",
    "if N.all() == P.all():\n",
    "    print(\"Yes Equal\")\n",
    "else:\n",
    "    print(\"Not Equal\")"
   ]
  },
  {
   "cell_type": "code",
   "execution_count": 153,
   "metadata": {},
   "outputs": [
    {
     "name": "stdout",
     "output_type": "stream",
     "text": [
      "[[1 2 3]\n",
      " [1 3 4]]\n",
      "4\n",
      "5\n",
      "0\n",
      "14\n",
      "72\n",
      "4\n"
     ]
    }
   ],
   "source": [
    "#Max, Min   \n",
    "print(P)\n",
    "print(P.max())\n",
    "print(P.argmax()) #Index of maximum element \n",
    "print(P.argmin())\n",
    "\n",
    "#Sum and Product of all elements\n",
    "print(P.sum())  #nansum or nanprod is best to use\n",
    "print(P.prod())\n",
    "\n",
    "#Sum of specific values\n",
    "print(np.sum(P[(P>=1)&(P<=2)])) #Sum of all elements between 1 and 2 values inclusive\n"
   ]
  },
  {
   "cell_type": "code",
   "execution_count": 156,
   "metadata": {},
   "outputs": [
    {
     "name": "stdout",
     "output_type": "stream",
     "text": [
      "[ 5 67 27 82 66 76 79 36 83 35 37 84 60 82 50 36 58 68 29 12]\n",
      "[ 8  1 13  4 15]\n",
      "[83 67 82 66 36]\n"
     ]
    }
   ],
   "source": [
    "#Choosing random data points\n",
    "T=np.random.randint(100,size=20)\n",
    "print(T)\n",
    "indices=np.random.choice(T.shape[0],5,replace=False)\n",
    "print(indices)\n",
    "print(T[indices])"
   ]
  }
 ],
 "metadata": {
  "kernelspec": {
   "display_name": "Python 3",
   "language": "python",
   "name": "python3"
  },
  "language_info": {
   "codemirror_mode": {
    "name": "ipython",
    "version": 3
   },
   "file_extension": ".py",
   "mimetype": "text/x-python",
   "name": "python",
   "nbconvert_exporter": "python",
   "pygments_lexer": "ipython3",
   "version": "3.7.4"
  }
 },
 "nbformat": 4,
 "nbformat_minor": 2
}
