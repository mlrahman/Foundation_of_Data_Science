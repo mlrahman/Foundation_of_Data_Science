{
 "cells": [
  {
   "cell_type": "code",
   "execution_count": null,
   "metadata": {},
   "outputs": [],
   "source": [
    "import matplotlib.pyplot as plt\n",
    "import numpy as np\n",
    "\n",
    "\n",
    "#set values\n",
    "x = np.linspace(0.01, 10)\n",
    "\n",
    "#calculate the values of the function at the given points\n",
    "y1 = np.log(x)\n",
    "#calculate the values of the function at the given points using the base-2 logarithm: np.log2()\n",
    "y2 = ????\n",
    "#calculate the values of the function at the given points using the base-10 logarithm: np.log10()\n",
    "y3 = ????\n",
    "# y1, y2 and y3 are now arrays which we can plot\n",
    "\n",
    "#plot the resulting arrays\n",
    "fig, ax = plt.subplots(1,3, figsize=(10,3))\n",
    "\n",
    "ax[0].set_title(\"plot y1 = log(x)\")\n",
    "ax[0].plot(x,y1) # .. \"plot log(x)\"\n",
    "ax[0].set_yticks(np.arange(-7,3, 1)) \n",
    "\n",
    "ax[1].set_title(\"plot y2 = log2(x)\")\n",
    "# .. \"plot log2(x)\"\n",
    "ax[1].plot(x,????) \n",
    "ax[1].set_yticks(np.arange(-7, 3, 1)) \n",
    "\n",
    "ax[2].set_title(\"plot y3 = log10(x)\")\n",
    "# .. \"plot log10(x)\"\n",
    "ax[2].plot(x,????) \n",
    "ax[2].set_yticks(np.arange(-7, 3, 1)) \n",
    "\n",
    "plt.show()"
   ]
  }
 ],
 "metadata": {
  "kernelspec": {
   "display_name": "Python 3",
   "language": "python",
   "name": "python3"
  },
  "language_info": {
   "codemirror_mode": {
    "name": "ipython",
    "version": 3
   },
   "file_extension": ".py",
   "mimetype": "text/x-python",
   "name": "python",
   "nbconvert_exporter": "python",
   "pygments_lexer": "ipython3",
   "version": "3.7.3"
  }
 },
 "nbformat": 4,
 "nbformat_minor": 2
}
